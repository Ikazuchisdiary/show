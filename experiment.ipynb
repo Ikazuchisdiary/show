{
  "nbformat": 4,
  "nbformat_minor": 0,
  "metadata": {
    "colab": {
      "provenance": []
    },
    "kernelspec": {
      "name": "python3",
      "display_name": "Python 3"
    },
    "language_info": {
      "name": "python"
    }
  },
  "cells": [
    {
      "cell_type": "markdown",
      "source": [
        "# スクショウ計算機\n",
        "- ノーツタップの点数は関係なしでおｋ\n",
        "- APは足りる前提で\n",
        "  - 一番左のカードAP0\n",
        "- クールタイムも一定\n",
        "  - とすればフィーバー前、フィーバー中、フィーバー後の回数が分かればいい\n",
        "- メンタル条件は最初に全部みる"
      ],
      "metadata": {
        "id": "bfjr1KRBl528"
      }
    },
    {
      "cell_type": "code",
      "source": [],
      "metadata": {
        "id": "TMaRhDAP9_BU"
      },
      "execution_count": null,
      "outputs": []
    },
    {
      "cell_type": "code",
      "source": [
        "music = {\n",
        "    \"i_do_me\": [11, 7, 5]\n",
        "}"
      ],
      "metadata": {
        "id": "FnBRrJK7mYyg"
      },
      "execution_count": null,
      "outputs": []
    },
    {
      "cell_type": "code",
      "source": [],
      "metadata": {
        "id": "dgF-XE6Osa-2"
      },
      "execution_count": null,
      "outputs": []
    },
    {
      "cell_type": "code",
      "source": [
        "class Game:\n",
        "  def __init__(self, cards: list[Card], appeal: int, music: list[int], verbose: bool = False):\n",
        "    self.score = 0\n",
        "    self.score_boost = [0] * 100\n",
        "    self.score_boost_count = 0\n",
        "    self.voltage_pt = 0\n",
        "    self.voltage_boost = [0] * 100\n",
        "    self.voltage_boost_count = 0\n",
        "    self.turn = 0\n",
        "    self.cards = cards\n",
        "    self.card_turn = 0\n",
        "    self.mental = 100\n",
        "    self.appeal = appeal\n",
        "    self.music = music\n",
        "    self.verbose = verbose\n",
        "\n",
        "  def do_game(self):\n",
        "    while self.turn < sum(self.music):\n",
        "      self.turn_up()\n",
        "\n",
        "  def turn_up(self):\n",
        "    if self.card_turn >= len(self.cards):\n",
        "      self.card_turn = 0\n",
        "    if self.verbose:\n",
        "      print(f\"turn {self.turn+1}\")\n",
        "    card = self.cards[self.card_turn]\n",
        "    card.do(self)\n",
        "\n",
        "  def get_voltage_level(self) -> int:\n",
        "    def get_sub_voltage_level(self):\n",
        "      voltage_levels = [0, 10, 30, 60, 100, 150, 210, 280, 360, 450, 550, 660, 780, 910, 1050, 1200, 1360, 1530, 1710, 1900]\n",
        "      if self.voltage_pt < 1900:\n",
        "        for i in range(len(voltage_levels)):\n",
        "          if self.voltage_pt < voltage_levels[i]:\n",
        "            return i\n",
        "      return 19 + (self.voltage_pt - 1900) // 200\n",
        "    voltage = get_sub_voltage_level(self)\n",
        "    if self.music[0] + 1 <= self.turn and self.turn <= self.music[0] + self.music[1]:\n",
        "      voltage *= 2\n",
        "    return voltage\n",
        "\n",
        "  def do_score_boost(self, value: float, times: int = 1):\n",
        "    for i in range(times):\n",
        "      self.score_boost[self.score_boost_count + i] += value\n",
        "    if self.verbose:\n",
        "      print(f\"score boost {value}, reach {self.score_boost[self.score_boost_count]}\")\n",
        "\n",
        "  def do_voltage_boost(self, value: float, times: int = 1):\n",
        "    for i in range(times):\n",
        "      self.voltage_boost[self.voltage_boost_count + i] += value\n",
        "    if self.verbose:\n",
        "      print(f\"voltage boost {value}, reach {self.voltage_boost[self.voltage_boost_count]}\")\n",
        "\n",
        "  def get_score(self, value: float):\n",
        "    score = int(self.appeal * value * (1 + self.score_boost[self.score_boost_count]) * (1 + self.get_voltage_level() / 10)) * 1.5\n",
        "    self.score += score\n",
        "    self.score_boost_count += 1\n",
        "    if self.verbose:\n",
        "      print(f\"get score {score} = {value} * {self.appeal} * (1 + {self.score_boost[self.score_boost_count-1]}) * {1 + self.get_voltage_level() / 10} * 1.5\")\n",
        "\n",
        "  def get_voltage(self, value: int):\n",
        "    voltage_pt = int(value * (1 + self.voltage_boost[self.voltage_boost_count]))\n",
        "    self.voltage_pt += voltage_pt\n",
        "    if self.verbose:\n",
        "      print(f\"get voltage {voltage_pt} = {value} * (1 + {self.voltage_boost[self.voltage_boost_count]})\")\n",
        "    self.voltage_boost_count += 1"
      ],
      "metadata": {
        "id": "hbpk75_clTER"
      },
      "execution_count": null,
      "outputs": []
    },
    {
      "cell_type": "code",
      "source": [
        "class Card:\n",
        "  name = \"\"\n",
        "  def __init__(self):\n",
        "    self.count = 0\n",
        "  def do(self, game:Game):\n",
        "    if game.verbose:\n",
        "      print(f\"done {self.name}\")\n",
        "    self.count += 1\n",
        "    game.turn += 1\n",
        "    game.card_turn += 1"
      ],
      "metadata": {
        "id": "erdhZ82imyjw"
      },
      "execution_count": null,
      "outputs": []
    },
    {
      "cell_type": "code",
      "source": [
        "class Sachi(Card):\n",
        "  name = \"sachi\"\n",
        "  pass\n",
        "  def do(self, game: Game):\n",
        "    if self.count == 3:\n",
        "      game.card_turn += 1\n",
        "      return\n",
        "    super().do(game)"
      ],
      "metadata": {
        "id": "m_QuxRXOm73Q"
      },
      "execution_count": null,
      "outputs": []
    },
    {
      "cell_type": "code",
      "source": [
        "class BdMegu(Card):\n",
        "  name = \"bd megu\"\n",
        "  def do(self, game: Game):\n",
        "    game.do_score_boost(1.2375)\n",
        "    game.do_voltage_boost(1.2375)\n",
        "    super().do(game)"
      ],
      "metadata": {
        "id": "Hq_2R73TnpWj"
      },
      "execution_count": null,
      "outputs": []
    },
    {
      "cell_type": "code",
      "source": [
        "class GingaKozu(Card):\n",
        "  name = \"ginga kozu\"\n",
        "  def do(self, game: Game):\n",
        "    if self.count <= 2:\n",
        "      game.do_voltage_boost(3.24)\n",
        "      game.card_turn = -1\n",
        "    else:\n",
        "      game.do_score_boost(3.24)\n",
        "    super().do(game)"
      ],
      "metadata": {
        "id": "uIE2UiDcpONA"
      },
      "execution_count": null,
      "outputs": []
    },
    {
      "cell_type": "code",
      "source": [
        "class IDoMeSayaka(Card):\n",
        "  name = \"i do me sayaka\"\n",
        "  def do(self, game:Game):\n",
        "    if self.count <= 0:\n",
        "      game.do_voltage_boost(0.7875)\n",
        "    else:\n",
        "      game.do_score_boost(2.43)\n",
        "    if game.mental >= 100:\n",
        "      game.get_voltage(945)\n",
        "    else:\n",
        "      game.do_voltage -= 1000\n",
        "    super().do(game)"
      ],
      "metadata": {
        "id": "MvWhxWMdovUk"
      },
      "execution_count": null,
      "outputs": []
    },
    {
      "cell_type": "code",
      "source": [
        "class IDoMeKaho(Card):\n",
        "  name = \"i do me kaho\"\n",
        "  def do(self, game:Game):\n",
        "    game.mental += 10\n",
        "    if game.mental >= 100:\n",
        "      game.get_score(11.34)\n",
        "    else:\n",
        "      game.voltage -= 1000\n",
        "    super().do(game)"
      ],
      "metadata": {
        "id": "P3JbBlSyrPWd"
      },
      "execution_count": null,
      "outputs": []
    },
    {
      "cell_type": "code",
      "source": [
        "class ButoRuri(Card):\n",
        "  name = \"buto ruri\"\n",
        "  def do(self, game: Game):\n",
        "    voltage_level = game.get_voltage_level()\n",
        "    if voltage_level <= 8:\n",
        "      game.do_voltage_boost(3.2625)\n",
        "    if voltage_level >= 7:\n",
        "      game.do_score_boost(4.35)\n",
        "    super().do(game)"
      ],
      "metadata": {
        "id": "eWfjk4hQsBk-"
      },
      "execution_count": null,
      "outputs": []
    },
    {
      "cell_type": "code",
      "source": [
        "cards = []\n",
        "cards.append(Sachi())\n",
        "cards.append(BdMegu())\n",
        "cards.append(GingaKozu())\n",
        "cards.append(IDoMeSayaka())\n",
        "cards.append(IDoMeKaho())\n",
        "cards.append(ButoRuri())"
      ],
      "metadata": {
        "id": "LINnepk-tq7E"
      },
      "execution_count": null,
      "outputs": []
    },
    {
      "cell_type": "code",
      "source": [
        "game = Game(cards, 88146, music[\"i_do_me\"], True)"
      ],
      "metadata": {
        "id": "G5H-7v4otfjh"
      },
      "execution_count": null,
      "outputs": []
    },
    {
      "cell_type": "code",
      "source": [
        "game.do_game()"
      ],
      "metadata": {
        "colab": {
          "base_uri": "https://localhost:8080/"
        },
        "id": "uff8YLB-t0a9",
        "outputId": "cc5ea391-c649-48c0-b711-23092db0c2a2"
      },
      "execution_count": null,
      "outputs": [
        {
          "output_type": "stream",
          "name": "stdout",
          "text": [
            "turn 1\n",
            "done sachi\n",
            "turn 2\n",
            "score boost 1.2375, reach 1.2375\n",
            "voltage boost 1.2375, reach 1.2375\n",
            "done bd megu\n",
            "turn 3\n",
            "voltage boost 3.24, reach 4.4775\n",
            "done ginga kozu\n",
            "turn 4\n",
            "done sachi\n",
            "turn 5\n",
            "score boost 1.2375, reach 2.475\n",
            "voltage boost 1.2375, reach 5.715\n",
            "done bd megu\n",
            "turn 6\n",
            "voltage boost 3.24, reach 8.955\n",
            "done ginga kozu\n",
            "turn 7\n",
            "done sachi\n",
            "turn 8\n",
            "score boost 1.2375, reach 3.7125000000000004\n",
            "voltage boost 1.2375, reach 10.1925\n",
            "done bd megu\n",
            "turn 9\n",
            "voltage boost 3.24, reach 13.432500000000001\n",
            "done ginga kozu\n",
            "turn 10\n",
            "turn 10\n",
            "score boost 1.2375, reach 4.95\n",
            "voltage boost 1.2375, reach 14.670000000000002\n",
            "done bd megu\n",
            "turn 11\n",
            "score boost 3.24, reach 8.190000000000001\n",
            "done ginga kozu\n",
            "turn 12\n",
            "voltage boost 0.7875, reach 15.457500000000001\n",
            "get voltage 15552 = 945 * (1 + 15.457500000000001)\n",
            "done i do me sayaka\n",
            "turn 13\n",
            "get score 253536363.0 = 11.34 * 88146 * (1 + 8.190000000000001) * 18.4 * 1.5\n",
            "done i do me kaho\n",
            "turn 14\n",
            "score boost 4.35, reach 4.35\n",
            "done buto ruri\n",
            "turn 15\n",
            "turn 15\n",
            "score boost 1.2375, reach 5.5874999999999995\n",
            "voltage boost 1.2375, reach 1.2375\n",
            "done bd megu\n",
            "turn 16\n",
            "score boost 3.24, reach 8.8275\n",
            "done ginga kozu\n",
            "turn 17\n",
            "score boost 2.43, reach 11.2575\n",
            "get voltage 2114 = 945 * (1 + 1.2375)\n",
            "done i do me sayaka\n",
            "turn 18\n",
            "get score 374920330.5 = 11.34 * 88146 * (1 + 11.2575) * 20.4 * 1.5\n",
            "done i do me kaho\n",
            "turn 19\n",
            "score boost 4.35, reach 4.35\n",
            "done buto ruri\n",
            "turn 20\n",
            "turn 20\n",
            "score boost 1.2375, reach 5.5874999999999995\n",
            "voltage boost 1.2375, reach 1.2375\n",
            "done bd megu\n",
            "turn 21\n",
            "score boost 3.24, reach 8.8275\n",
            "done ginga kozu\n",
            "turn 22\n",
            "score boost 2.43, reach 11.2575\n",
            "get voltage 2114 = 945 * (1 + 1.2375)\n",
            "done i do me sayaka\n",
            "turn 23\n",
            "get score 216865681.5 = 11.34 * 88146 * (1 + 11.2575) * 11.8 * 1.5\n",
            "done i do me kaho\n"
          ]
        }
      ]
    },
    {
      "cell_type": "code",
      "source": [
        "game.score"
      ],
      "metadata": {
        "colab": {
          "base_uri": "https://localhost:8080/"
        },
        "id": "_qbZmXkr1yK0",
        "outputId": "4ec89e68-cc41-4942-c4d6-12f3717b6dcc"
      },
      "execution_count": null,
      "outputs": [
        {
          "output_type": "execute_result",
          "data": {
            "text/plain": [
              "845322375.0"
            ]
          },
          "metadata": {},
          "execution_count": 529
        }
      ]
    },
    {
      "cell_type": "code",
      "source": [
        "(11368 - 1900) // 200 + 19"
      ],
      "metadata": {
        "colab": {
          "base_uri": "https://localhost:8080/"
        },
        "id": "ZTM3ZdX-viAu",
        "outputId": "c3aaae3f-5527-4e8a-de11-00ff09bb7b9f"
      },
      "execution_count": null,
      "outputs": [
        {
          "output_type": "execute_result",
          "data": {
            "text/plain": [
              "66"
            ]
          },
          "metadata": {},
          "execution_count": 447
        }
      ]
    },
    {
      "cell_type": "code",
      "source": [],
      "metadata": {
        "id": "O5t2Omawwd4t"
      },
      "execution_count": null,
      "outputs": []
    }
  ]
}